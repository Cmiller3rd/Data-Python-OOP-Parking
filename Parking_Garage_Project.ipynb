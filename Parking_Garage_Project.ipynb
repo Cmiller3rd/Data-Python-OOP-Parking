{
  "cells": [
    {
      "cell_type": "markdown",
      "metadata": {
        "id": "_TMw-3_ZnBPt"
      },
      "source": [
        "# Parking Garage Project\n",
        "\n",
        "Your assignment for today is to create a parking garage class to get more familiar with Object Oriented Programming(OOP).\n",
        "\n",
        "Your parking gargage class should have the following methods:\n",
        "- takeTicket\n",
        "   - This should decrease the amount of tickets available by 1\n",
        "   - This should decrease the amount of parkingSpaces available by 1\n",
        "- payForParking\n",
        "   - Display an input that waits for an amount from the user and store it in a variable\n",
        "   - If the payment variable is not empty then ->  display a message to the user that their ticket has been paid and they have 15mins to leave\n",
        "   - This should update the \"currentTicket\" dictionary key \"paid\" to True\n",
        "-leaveGarage\n",
        "   - If the ticket has been paid, display a message of \"Thank You, have a nice day\"\n",
        "   - If the ticket has not been paid, display an input prompt for payment\n",
        "      - Once paid, display message \"Thank you, have a nice day!\"\n",
        "   - Update parkingSpaces list to increase by 1\n",
        "   - Update tickets list to increase by 1\n",
        "\n",
        "You will need a few attributes as well:\n",
        "- tickets -> list\n",
        "- parkingSpaces -> list\n",
        "- currentTicket -> dictionary"
      ]
    },
    {
      "cell_type": "code",
      "execution_count": 2,
      "metadata": {
        "colab": {
          "base_uri": "https://localhost:8080/"
        },
        "id": "hmA2boF6nBPw",
        "outputId": "394e68f4-3123-4fba-bd65-edc9b2a4d841"
      },
      "outputs": [
        {
          "name": "stdout",
          "output_type": "stream",
          "text": [
            "Your ticket number is 9.\n",
            "Please pay the parking fee of 4.50 before you leave.\n",
            "Your ticket number is 8.\n",
            "Please pay the parking fee of 4.50 before you leave.\n",
            "Please input your parking space number: 6\n",
            "Please input the correct payment for the parking ticket (4.50): 4.50\n",
            "Thank you for your payment. Please exit the lot in 15 minutes.\n",
            "What is your parking space number? 7\n",
            "Have a nice day!\n"
          ]
        },
        {
          "data": {
            "text/plain": [
              "9"
            ]
          },
          "execution_count": 2,
          "metadata": {},
          "output_type": "execute_result"
        }
      ],
      "source": [
        "from IPython.display import clear_output\n",
        "\n",
        "class parkingGarage():\n",
        "\n",
        "  def __init__(self, tickets):\n",
        "    self.tickets = tickets\n",
        "    self.parkingSpaces = [space for space in range(tickets)]\n",
        "    self.currentTicket = dict.fromkeys(self.parkingSpaces, True)\n",
        "\n",
        "  def takeTicket(self):\n",
        "    new_ticket = self.tickets - 1\n",
        "    if new_ticket >= 0:\n",
        "        self.tickets = new_ticket\n",
        "        new_space = self.parkingSpaces.pop()\n",
        "        self.currentTicket[new_space] = False\n",
        "        print(f'Your ticket number is {new_space}.'\n",
        "        f'\\nPlease pay the parking fee of 4.50 before you leave.')\n",
        "        return new_ticket\n",
        "        return new_space\n",
        "    else:\n",
        "        print(\"I'm sorry, the lot is currently full.\")\n",
        "\n",
        "  def payForParking(self):\n",
        "    ticket_to_pay = int(input(\"Please input your parking space number: \"))\n",
        "    payment = input(\"Please input the correct payment \"\n",
        "                \"for the parking ticket (4.50): \")\n",
        "    if payment == '4.50':\n",
        "        self.currentTicket[ticket_to_pay] = True\n",
        "        print(\"Thank you for your payment. Please exit the lot in\"\n",
        "            \" 15 minutes.\")\n",
        "\n",
        "  def leaveGarage(self):\n",
        "    ticket_check = int(input(\"What is your parking space number? \"))\n",
        "    if self.currentTicket[ticket_check] == False:\n",
        "      print(\"I'm sorry, but you must pay before you leave the lot\")\n",
        "    else:\n",
        "      print(\"Have a nice day!\")\n",
        "    return_ticket = self.tickets + 1\n",
        "    return_space = self.parkingSpaces.append(ticket_check)\n",
        "    return return_ticket\n",
        "    return return_space\n",
        "\n",
        "walmart = parkingGarage(10)\n",
        "\n",
        "walmart.takeTicket()\n",
        "walmart.takeTicket()\n",
        "walmart.payForParking()\n",
        "walmart.leaveGarage()"
      ]
    }
  ],
  "metadata": {
    "colab": {
      "provenance": []
    },
    "kernelspec": {
      "display_name": "Python 3",
      "language": "python",
      "name": "python3"
    },
    "language_info": {
      "codemirror_mode": {
        "name": "ipython",
        "version": 3
      },
      "file_extension": ".py",
      "mimetype": "text/x-python",
      "name": "python",
      "nbconvert_exporter": "python",
      "pygments_lexer": "ipython3",
      "version": "3.7.3"
    }
  },
  "nbformat": 4,
  "nbformat_minor": 0
}
