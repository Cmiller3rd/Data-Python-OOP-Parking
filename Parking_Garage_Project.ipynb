{
  "cells": [
    {
      "cell_type": "markdown",
      "metadata": {
        "id": "_TMw-3_ZnBPt"
      },
      "source": [
        "# Parking Garage Project\n",
        "\n",
        "Your assignment for today is to create a parking garage class to get more familiar with Object Oriented Programming(OOP).\n",
        "\n",
        "Your parking gargage class should have the following methods:\n",
        "- takeTicket\n",
        "   - This should decrease the amount of tickets available by 1\n",
        "   - This should decrease the amount of parkingSpaces available by 1\n",
        "- payForParking\n",
        "   - Display an input that waits for an amount from the user and store it in a variable\n",
        "   - If the payment variable is not empty then ->  display a message to the user that their ticket has been paid and they have 15mins to leave\n",
        "   - This should update the \"currentTicket\" dictionary key \"paid\" to True\n",
        "-leaveGarage\n",
        "   - If the ticket has been paid, display a message of \"Thank You, have a nice day\"\n",
        "   - If the ticket has not been paid, display an input prompt for payment\n",
        "      - Once paid, display message \"Thank you, have a nice day!\"\n",
        "   - Update parkingSpaces list to increase by 1\n",
        "   - Update tickets list to increase by 1\n",
        "\n",
        "You will need a few attributes as well:\n",
        "- tickets -> list\n",
        "- parkingSpaces -> list\n",
        "- currentTicket -> dictionary"
      ]
    },
    {
      "cell_type": "code",
      "execution_count": null,
      "metadata": {
        "id": "hmA2boF6nBPw"
      },
      "outputs": [],
      "source": [
        "class parkingGarage():\n",
        "\n",
        "  def __init__(self, tickets, parkingSpaces, currentTicket):\n",
        "    self.tickets = tickets\n",
        "    self.parkingSpaces = parkingSpaces\n",
        "    self.currentTicket = currentTicket\n",
        "\n",
        "  def takeTicket(self):\n",
        "    # decrease total number of tickets and parking spaces by 1\n",
        "\n",
        "\n",
        "  def payForParking(self):\n",
        "    self.currentTicket = dict.fromkeys(self.tickets, False)\n",
        "    # input amount from user to pay for parking\n",
        "    payment = input(\"Please input the amount of the parking ticket (4.50): \")\n",
        "    # display \"paid\" message and user must leave in 15 minutes\n",
        "    if payment == 4.50:\n",
        "      currentTicket.value = True\n",
        "    # update currentTicket key \"paid\" to True\n",
        "\n",
        "  def leaveGarage(self):\n",
        "    # if payforParking == False: prompt for payment\n",
        "    if currentTicket == False:\n",
        "      print(\"I'm sorry, but you must pay before you leave the lot\")\n",
        "      payForParking()\n",
        "    # else, print \"Have a nice day!\"\n",
        "    else:\n",
        "      print(\"Have a nice day!\")\n",
        "    # increase ticket count and parking space count by 1\n",
        "\n"
      ]
    }
  ],
  "metadata": {
    "kernelspec": {
      "display_name": "Python 3",
      "language": "python",
      "name": "python3"
    },
    "language_info": {
      "codemirror_mode": {
        "name": "ipython",
        "version": 3
      },
      "file_extension": ".py",
      "mimetype": "text/x-python",
      "name": "python",
      "nbconvert_exporter": "python",
      "pygments_lexer": "ipython3",
      "version": "3.7.3"
    },
    "colab": {
      "provenance": []
    }
  },
  "nbformat": 4,
  "nbformat_minor": 0
}